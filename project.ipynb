{
  "cells": [
    {
      "cell_type": "markdown",
      "metadata": {
        "id": "7aZ_blKrRZ3H"
      },
      "source": [
        "# DX 704 Week 2 Project\n",
        "\n",
        "This week's project will analyze fresh strawberry price data for a hypothetical \"buy low, freeze, and sell high\" business.\n",
        "Strawberries show strong seasonality in their prices compared to other fruits.\n",
        "\n",
        "![](https://ers.usda.gov/sites/default/files/_laserfiche/Charts/61401/oct14_finding_plattner_fig01.png)\n",
        "\n",
        "Image source: https://www.ers.usda.gov/amber-waves/2014/october/seasonal-fresh-fruit-price-patterns-differ-across-commodities-the-case-of-strawberries-and-apples\n",
        "\n",
        "You are considering a business where you buy strawberries when the prices are very low, carefully freeze them, even more carefully defrost them, and then sell them when the prices are high.\n",
        "You will forecast strawberry price time series and then use them to tactically pick times to buy, freeze, and sell the strawberries."
      ]
    },
    {
      "cell_type": "markdown",
      "metadata": {
        "id": "g1rddBd6_teG"
      },
      "source": [
        "The full project description, a template notebook, and raw data are available on GitHub at the following link.\n",
        "\n",
        "https://github.com/bu-cds-dx704/dx704-project-02\n"
      ]
    },
    {
      "cell_type": "markdown",
      "metadata": {},
      "source": [
        "### Example Code\n",
        "\n",
        "You may find it helpful to refer to these GitHub repositories of Jupyter notebooks for example code.\n",
        "\n",
        "* https://github.com/bu-cds-omds/dx601-examples\n",
        "* https://github.com/bu-cds-omds/dx602-examples\n",
        "* https://github.com/bu-cds-omds/dx603-examples\n",
        "* https://github.com/bu-cds-omds/dx704-examples\n",
        "\n",
        "Any calculations demonstrated in code examples or videos may be found in these notebooks, and you are allowed to copy this example code in your homework answers."
      ]
    },
    {
      "cell_type": "markdown",
      "metadata": {
        "id": "B7jHqNiZBXzD"
      },
      "source": [
        "## Part 1: Backtest Strawberry Prices\n",
        "\n",
        "Read the provided \"strawberry-prices.tsv\" with data from 2000 through 2024.\n",
        "This data is based on data from the U.S. Bureau of Statistics, but transformed so the ground truth is not online.\n",
        "https://fred.stlouisfed.org/series/APU0000711415\n",
        "\n",
        "Use the data for 2000 through 2023 to predict monthly prices in 2024.\n",
        "Spend some time to make sure you are happy with your methodology and prediction accuracy, since you will reuse the methodology to forecast 2025 next.\n",
        "Save the 2024 backtest predictions as \"strawberry-backtest.tsv\" with columns month and price.\n"
      ]
    },
    {
      "cell_type": "code",
      "execution_count": 98,
      "metadata": {
        "id": "T8OLCmHbiaoK"
      },
      "outputs": [
        {
          "name": "stdout",
          "output_type": "stream",
          "text": [
            " strawberry-backtest.tsv with shape (12, 2)\n"
          ]
        },
        {
          "data": {
            "text/html": [
              "<div>\n",
              "<style scoped>\n",
              "    .dataframe tbody tr th:only-of-type {\n",
              "        vertical-align: middle;\n",
              "    }\n",
              "\n",
              "    .dataframe tbody tr th {\n",
              "        vertical-align: top;\n",
              "    }\n",
              "\n",
              "    .dataframe thead th {\n",
              "        text-align: right;\n",
              "    }\n",
              "</style>\n",
              "<table border=\"1\" class=\"dataframe\">\n",
              "  <thead>\n",
              "    <tr style=\"text-align: right;\">\n",
              "      <th></th>\n",
              "      <th>month</th>\n",
              "      <th>price</th>\n",
              "    </tr>\n",
              "  </thead>\n",
              "  <tbody>\n",
              "    <tr>\n",
              "      <th>0</th>\n",
              "      <td>2024-01-01</td>\n",
              "      <td>4.575410</td>\n",
              "    </tr>\n",
              "    <tr>\n",
              "      <th>1</th>\n",
              "      <td>2024-02-01</td>\n",
              "      <td>4.271944</td>\n",
              "    </tr>\n",
              "    <tr>\n",
              "      <th>2</th>\n",
              "      <td>2024-03-01</td>\n",
              "      <td>3.837477</td>\n",
              "    </tr>\n",
              "  </tbody>\n",
              "</table>\n",
              "</div>"
            ],
            "text/plain": [
              "        month     price\n",
              "0  2024-01-01  4.575410\n",
              "1  2024-02-01  4.271944\n",
              "2  2024-03-01  3.837477"
            ]
          },
          "metadata": {},
          "output_type": "display_data"
        },
        {
          "data": {
            "text/html": [
              "<div>\n",
              "<style scoped>\n",
              "    .dataframe tbody tr th:only-of-type {\n",
              "        vertical-align: middle;\n",
              "    }\n",
              "\n",
              "    .dataframe tbody tr th {\n",
              "        vertical-align: top;\n",
              "    }\n",
              "\n",
              "    .dataframe thead th {\n",
              "        text-align: right;\n",
              "    }\n",
              "</style>\n",
              "<table border=\"1\" class=\"dataframe\">\n",
              "  <thead>\n",
              "    <tr style=\"text-align: right;\">\n",
              "      <th></th>\n",
              "      <th>month</th>\n",
              "      <th>price</th>\n",
              "    </tr>\n",
              "  </thead>\n",
              "  <tbody>\n",
              "    <tr>\n",
              "      <th>9</th>\n",
              "      <td>2024-10-01</td>\n",
              "      <td>3.850960</td>\n",
              "    </tr>\n",
              "    <tr>\n",
              "      <th>10</th>\n",
              "      <td>2024-11-01</td>\n",
              "      <td>4.290994</td>\n",
              "    </tr>\n",
              "    <tr>\n",
              "      <th>11</th>\n",
              "      <td>2024-12-01</td>\n",
              "      <td>4.649602</td>\n",
              "    </tr>\n",
              "  </tbody>\n",
              "</table>\n",
              "</div>"
            ],
            "text/plain": [
              "         month     price\n",
              "9   2024-10-01  3.850960\n",
              "10  2024-11-01  4.290994\n",
              "11  2024-12-01  4.649602"
            ]
          },
          "metadata": {},
          "output_type": "display_data"
        }
      ],
      "source": [
        "# YOUR CHANGES HERE\n",
        "\n",
        "import pandas as pd\n",
        "import numpy as np\n",
        "\n",
        "IN_FILE  = \"strawberry-prices.tsv\"       # This is provided\n",
        "OUT_FILE = \"strawberry-backtest.tsv\"     # This is what I create\n",
        "\n",
        "df = pd.read_csv(IN_FILE, sep=\"\\t\")\n",
        "\n",
        "df[\"month\"] = pd.to_datetime(df[\"month\"]).dt.to_period(\"M\")\n",
        "\n",
        "train = df[df[\"month\"] <= pd.Period(\"2023-12\", freq=\"M\")].copy()\n",
        "bt_months = pd.period_range(\"2024-01\", \"2024-12\", freq=\"M\")\n",
        "\n",
        "def make_design(frame, base_start, center_val):\n",
        "\n",
        "    t = ((frame[\"month\"].dt.year - base_start.year) * 12 +\n",
        "         (frame[\"month\"].dt.month - base_start.month)).astype(int).to_numpy() \n",
        "\n",
        "    if center_val is None:\n",
        "        tc = t - t.mean()\n",
        "    else:\n",
        "        tc = t - center_val\n",
        "\n",
        "    tc= t - center_val\n",
        "\n",
        "    t2 = tc**2\n",
        "    t3 = tc**3\n",
        "\n",
        "    m = frame[\"month\"].dt.month\n",
        "    md = pd.get_dummies(m)                                  \n",
        "    md = md.reindex(columns=range(1, 13), fill_value=0)      \n",
        "    names = {i: [\"Jan\",\"Feb\",\"Mar\",\"Apr\",\"May\",\"Jun\",\"Jul\",\"Aug\",\"Sep\",\"Oct\",\"Nov\",\"Dec\"][i-1] for i in range(1,13)}\n",
        "    md = md.rename(columns=names)\n",
        "    md = md.drop(columns=[\"Dec\"], errors=\"ignore\")         \n",
        "    M = md.to_numpy(dtype=float)\n",
        "\n",
        "    const = np.ones((len(frame), 1))\n",
        "    X = np.hstack([const, tc[:, None], t2[:, None], M])\n",
        "    y = frame[\"price\"].to_numpy(dtype=float) if \"price\" in frame.columns else None\n",
        "    return X, y\n",
        "\n",
        "base = train[\"month\"].min()    \n",
        "t_train = ((train[\"month\"].dt.year - base.year) * 12 +\n",
        "           (train[\"month\"].dt.month - base.month)).astype(int).to_numpy()\n",
        "center = t_train.mean()\n",
        "\n",
        "X_tr, y_tr = make_design(train, base, center) \n",
        "beta, *_ = np.linalg.lstsq(X_tr, y_tr, rcond=None)\n",
        "\n",
        "bt_frame = pd.DataFrame({\"month\": bt_months})\n",
        "X_bt, _ = make_design(bt_frame, base, center)\n",
        "pred_price = X_bt @ beta\n",
        "\n",
        "out = pd.DataFrame({\n",
        "    \"month\": bt_months.to_timestamp(),  # Timestamp at month start\n",
        "    \"price\": pred_price\n",
        "})\n",
        "\n",
        "out[\"month\"] = out[\"month\"].dt.strftime(\"%Y-%m-%d\")\n",
        "\n",
        "out.to_csv(OUT_FILE, sep=\"\\t\", index=False)\n",
        "\n",
        "print(f\" {OUT_FILE} with shape {out.shape}\")\n",
        "display(out.head(3))\n",
        "display(out.tail(3))\n",
        "\n",
        "chk = pd.read_csv(OUT_FILE, sep=\"\\t\")\n",
        "assert list(chk.columns) == [\"month\", \"price\"]\n",
        "assert len(chk) == 12\n",
        "\n"
      ]
    },
    {
      "cell_type": "markdown",
      "metadata": {
        "id": "vzTi6z-skMoz"
      },
      "source": [
        "Submit \"strawberry-backtest.tsv\" in Gradescope."
      ]
    },
    {
      "cell_type": "markdown",
      "metadata": {
        "id": "T3D1ItqDnt9c"
      },
      "source": [
        "## Part 2: Backtest Errors\n",
        "\n",
        "What are the mean and standard deviation of the residuals between your backtest predictions and the ground truth? (If your mean is not close to zero, then you may be missing a long term trend.)\n",
        "\n",
        "Write the mean and standard deviation to a file \"backtest-accuracy.tsv\" with two columns, mean and std."
      ]
    },
    {
      "cell_type": "code",
      "execution_count": 99,
      "metadata": {
        "id": "3wxh46v8tnv8"
      },
      "outputs": [
        {
          "name": "stdout",
          "output_type": "stream",
          "text": [
            " backtest-accuracy.tsv with mean=-0.041700, std=0.258429\n"
          ]
        },
        {
          "data": {
            "text/html": [
              "<div>\n",
              "<style scoped>\n",
              "    .dataframe tbody tr th:only-of-type {\n",
              "        vertical-align: middle;\n",
              "    }\n",
              "\n",
              "    .dataframe tbody tr th {\n",
              "        vertical-align: top;\n",
              "    }\n",
              "\n",
              "    .dataframe thead th {\n",
              "        text-align: right;\n",
              "    }\n",
              "</style>\n",
              "<table border=\"1\" class=\"dataframe\">\n",
              "  <thead>\n",
              "    <tr style=\"text-align: right;\">\n",
              "      <th></th>\n",
              "      <th>month</th>\n",
              "      <th>actual</th>\n",
              "      <th>pred</th>\n",
              "      <th>resid</th>\n",
              "    </tr>\n",
              "  </thead>\n",
              "  <tbody>\n",
              "    <tr>\n",
              "      <th>0</th>\n",
              "      <td>2024-01-01</td>\n",
              "      <td>5.055</td>\n",
              "      <td>4.575410</td>\n",
              "      <td>0.479590</td>\n",
              "    </tr>\n",
              "    <tr>\n",
              "      <th>1</th>\n",
              "      <td>2024-02-01</td>\n",
              "      <td>4.264</td>\n",
              "      <td>4.271944</td>\n",
              "      <td>-0.007944</td>\n",
              "    </tr>\n",
              "    <tr>\n",
              "      <th>2</th>\n",
              "      <td>2024-03-01</td>\n",
              "      <td>3.742</td>\n",
              "      <td>3.837477</td>\n",
              "      <td>-0.095477</td>\n",
              "    </tr>\n",
              "    <tr>\n",
              "      <th>3</th>\n",
              "      <td>2024-04-01</td>\n",
              "      <td>3.576</td>\n",
              "      <td>3.903960</td>\n",
              "      <td>-0.327960</td>\n",
              "    </tr>\n",
              "    <tr>\n",
              "      <th>4</th>\n",
              "      <td>2024-05-01</td>\n",
              "      <td>3.237</td>\n",
              "      <td>3.611044</td>\n",
              "      <td>-0.374044</td>\n",
              "    </tr>\n",
              "  </tbody>\n",
              "</table>\n",
              "</div>"
            ],
            "text/plain": [
              "       month  actual      pred     resid\n",
              "0 2024-01-01   5.055  4.575410  0.479590\n",
              "1 2024-02-01   4.264  4.271944 -0.007944\n",
              "2 2024-03-01   3.742  3.837477 -0.095477\n",
              "3 2024-04-01   3.576  3.903960 -0.327960\n",
              "4 2024-05-01   3.237  3.611044 -0.374044"
            ]
          },
          "execution_count": 99,
          "metadata": {},
          "output_type": "execute_result"
        }
      ],
      "source": [
        "# YOUR CHANGES HERE\n",
        "\n",
        "import pandas as pd\n",
        "import numpy as np\n",
        "\n",
        "ACT_FILE = \"strawberry-prices.tsv\"      \n",
        "BT_FILE  = \"strawberry-backtest.tsv\"   \n",
        "OUT_FILE = \"backtest-accuracy.tsv\"\n",
        "\n",
        "truth = pd.read_csv(ACT_FILE, sep=\"\\t\")\n",
        "truth[\"month\"] = pd.to_datetime(truth[\"month\"])\n",
        "truth_2024 = truth[truth[\"month\"].dt.year == 2024][[\"month\", \"price\"]].rename(columns={\"price\":\"actual\"})\n",
        "\n",
        "bt = pd.read_csv(BT_FILE, sep=\"\\t\")\n",
        "bt[\"month\"] = pd.to_datetime(bt[\"month\"])\n",
        "bt = bt.rename(columns={\"price\":\"pred\"})\n",
        "\n",
        "df = truth_2024.merge(bt, on=\"month\", how=\"inner\")\n",
        "assert len(df) == 12, f\"Expected 12 months, got {len(df)}\"\n",
        "\n",
        "df[\"resid\"] = df[\"actual\"] - df[\"pred\"]\n",
        "mean_resid = float(df[\"resid\"].mean())\n",
        "std_resid  = float(df[\"resid\"].std(ddof=1))  \n",
        "\n",
        "#to save the results \n",
        "pd.DataFrame([{\"mean\": mean_resid, \"std\": std_resid}]).to_csv(OUT_FILE, sep=\"\\t\", index=False)\n",
        "print(f\" {OUT_FILE} with mean={mean_resid:.6f}, std={std_resid:.6f}\")\n",
        "df.head()\n",
        "\n"
      ]
    },
    {
      "cell_type": "markdown",
      "metadata": {
        "id": "Cq2d378QtnG9"
      },
      "source": [
        "Submit \"backtest-accuracy.tsv\" in Gradescope."
      ]
    },
    {
      "cell_type": "markdown",
      "metadata": {
        "id": "Pa4DWVrpj5mq"
      },
      "source": [
        "## Part 3: Forecast Strawberry Prices\n",
        "\n",
        "Use all the data from 2000 through 2024 to predict monthly prices in 2025 using the same methodology from part 1.\n",
        "Make a monthly forecast for each month of 2025 and save it as \"strawberry-forecast.tsv\" with columns for month and price."
      ]
    },
    {
      "cell_type": "code",
      "execution_count": 100,
      "metadata": {
        "id": "CiKoW3BrkJiS"
      },
      "outputs": [
        {
          "name": "stdout",
          "output_type": "stream",
          "text": [
            " strawberry-forecast.tsv with 12 rows.\n"
          ]
        }
      ],
      "source": [
        "# YOUR CHANGES HERE\n",
        "\n",
        "import pandas as pd\n",
        "import numpy as np\n",
        "\n",
        "#this is the same one as part 1 \n",
        "IN_FILE  = \"strawberry-prices.tsv\"\n",
        "OUT_FILE = \"strawberry-forecast.tsv\"\n",
        "\n",
        "df = pd.read_csv(IN_FILE, sep=\"\\t\", parse_dates=[\"month\"]).sort_values(\"month\").reset_index(drop=True)\n",
        "\n",
        "train_all = df[df[\"month\"].dt.year <= 2024].copy()\n",
        "\n",
        "def make_design(frame, base_start):\n",
        "    m = frame[\"month\"]\n",
        "\n",
        "    # Jan is the baseline\n",
        "    d = pd.get_dummies(m.dt.month, drop_first=True)\n",
        "    d = d.reindex(columns=range(2, 13), fill_value=0)  \n",
        "\n",
        "    t = ((m.dt.year - base_start.year) * 12 + (m.dt.month - base_start.month)).astype(float)\n",
        "\n",
        "    X = np.hstack([\n",
        "        np.ones((len(frame), 1)),        \n",
        "        d.to_numpy(),                    \n",
        "        t.to_numpy().reshape(-1, 1)     \n",
        "    ])\n",
        "    y = frame[\"price\"].to_numpy(float)\n",
        "    return X, y\n",
        "\n",
        "base = train_all[\"month\"].min()\n",
        "X_all, y_all = make_design(train_all, base)\n",
        "beta, *_ = np.linalg.lstsq(X_all, y_all, rcond=None)\n",
        "\n",
        "fcst_months = pd.date_range(\"2025-01-01\", \"2025-12-01\", freq=\"MS\")\n",
        "d25 = pd.get_dummies(fcst_months.month, drop_first=True).reindex(columns=range(2, 13), fill_value=0)\n",
        "t25 = ((fcst_months.year - base.year) * 12 + (fcst_months.month - base.month)).astype(float)\n",
        "\n",
        "X25 = np.hstack([\n",
        "    np.ones((len(fcst_months), 1)),\n",
        "    d25.to_numpy(),\n",
        "    t25.to_numpy().reshape(-1, 1)\n",
        "])\n",
        "\n",
        "y25 = X25 @ beta\n",
        "out = pd.DataFrame({\"month\": fcst_months, \"price\": y25})\n",
        "out.to_csv(OUT_FILE, sep=\"\\t\", index=False)\n",
        "\n",
        "chk = pd.read_csv(OUT_FILE, sep=\"\\t\")\n",
        "assert list(chk.columns) == [\"month\", \"price\"]\n",
        "assert len(chk) == 12\n",
        "print(f\" {OUT_FILE} with {len(out)} rows.\")\n"
      ]
    },
    {
      "cell_type": "markdown",
      "metadata": {
        "id": "32lM_MPdico0"
      },
      "source": [
        "Submit \"strawberry-forecast.tsv\" in Gradescope."
      ]
    },
    {
      "cell_type": "markdown",
      "metadata": {
        "id": "SzCWxxaLi8MH"
      },
      "source": [
        "## Part 4: Buy Low, Freeze and Sell High\n",
        "\n",
        "Using your 2025 forecast, analyze the profit picking different pairs of months to buy and sell strawberries.\n",
        "Maximize your profit assuming that it costs &dollar;0.20 per pint to freeze the strawberries, &dollar;0.10 per pint per month to store the frozen strawberries and there is a 10% price discount from selling previously frozen strawberries.\n",
        "So, if you buy a pint of strawberies for &dollar;1, freeze them, and sell them for &dollar;2 three months after buying them, then the profit is &dollar;2 * 0.9 - &dollar;1 - &dollar;0.20 - &dollar;0.10 * 3 = &dollar;0.30 per pint.\n",
        "To evaluate a given pair of months, assume that you can invest &dollar;1,000,000 to cover all costs, and that you buy as many pints of strawberries as possible.\n",
        "\n",
        "Write the results of your analysis to a file \"timings.tsv\" with columns for the buy_month, sell_month, pints_purchased, and expected_profit."
      ]
    },
    {
      "cell_type": "code",
      "execution_count": 101,
      "metadata": {
        "id": "pGWQQvy6nkCk"
      },
      "outputs": [
        {
          "name": "stdout",
          "output_type": "stream",
          "text": [
            " timings.tsv with 66 rows (all buy→sell pairs for 2025).\n"
          ]
        }
      ],
      "source": [
        "# YOUR CHANGES HERE\n",
        "import pandas as pd\n",
        "import numpy as np\n",
        "\n",
        "FORECAST_FILE = \"strawberry-forecast.tsv\"\n",
        "OUT_FILE      = \"timings.tsv\"\n",
        "\n",
        "BUDGET = 1_000_000            \n",
        "FREEZE_COST = 0.20            \n",
        "STORAGE_COST_PER_MONTH = 0.10 \n",
        "SELL_DISCOUNT = 0.10          # 10% discount \n",
        "\n",
        "# Load 2025 forecast\n",
        "fc = pd.read_csv(FORECAST_FILE, sep=\"\\t\", parse_dates=[\"month\"]).sort_values(\"month\").reset_index(drop=True)\n",
        "\n",
        "rows = []\n",
        "n = len(fc)\n",
        "\n",
        "for i in range(n):\n",
        "    for j in range(i + 1, n): \n",
        "        buy_month  = fc.loc[i, \"month\"]\n",
        "        sell_month = fc.loc[j, \"month\"]\n",
        "        buy_price  = float(fc.loc[i, \"price\"])\n",
        "        sell_price = float(fc.loc[j, \"price\"])\n",
        "\n",
        "        months_gap = (sell_month.year - buy_month.year) * 12 + (sell_month.month - buy_month.month)\n",
        "\n",
        "        per_pint_cost = buy_price + FREEZE_COST + STORAGE_COST_PER_MONTH * months_gap\n",
        "\n",
        "        pints = int(np.floor(BUDGET / per_pint_cost)) if per_pint_cost > 0 else 0\n",
        "\n",
        "        per_pint_profit = sell_price * (1 - SELL_DISCOUNT) - per_pint_cost\n",
        "\n",
        "        expected_profit = pints * per_pint_profit\n",
        "\n",
        "        rows.append({\n",
        "            \"buy_month\":  buy_month.strftime(\"%Y-%m-%d\"),\n",
        "            \"sell_month\": sell_month.strftime(\"%Y-%m-%d\"),\n",
        "            \"pints_purchased\": pints,\n",
        "            \"expected_profit\": expected_profit\n",
        "        })\n",
        "\n",
        "timings = pd.DataFrame(rows, columns=[\"buy_month\", \"sell_month\", \"pints_purchased\", \"expected_profit\"])\n",
        "timings.to_csv(OUT_FILE, sep=\"\\t\", index=False)\n",
        "\n",
        "chk = pd.read_csv(OUT_FILE, sep=\"\\t\")\n",
        "assert list(chk.columns) == [\"buy_month\", \"sell_month\", \"pints_purchased\", \"expected_profit\"]\n",
        "print(f\" {OUT_FILE} with {len(timings)} rows (all buy→sell pairs for 2025).\")\n"
      ]
    },
    {
      "cell_type": "markdown",
      "metadata": {
        "id": "XAWzFd54nlxI"
      },
      "source": [
        "Submit \"timings.tsv\" in Gradescope."
      ]
    },
    {
      "cell_type": "markdown",
      "metadata": {
        "id": "LdrZE8qKCDUv"
      },
      "source": [
        "## Part 5: Strategy Check\n",
        "\n",
        "What is the best profit scenario according to your previous timing analysis?\n",
        "How much does that profit change if the sell price is off by one standard deviation from your backtest analysis?\n",
        "(Variation in the sell price is more dangerous because you can see the buy price before fully committing.)\n",
        "\n",
        "Write the results to a file \"check.tsv\" with columns best_profit and one_std_profit."
      ]
    },
    {
      "cell_type": "code",
      "execution_count": 102,
      "metadata": {
        "id": "7HvYBo_wt8Rv"
      },
      "outputs": [
        {
          "name": "stdout",
          "output_type": "stream",
          "text": [
            " check.tsv. Best profit ≈ 101,434.80, one-std-down profit ≈ 45,087.93.\n"
          ]
        }
      ],
      "source": [
        "# YOUR CHANGES HERE\n",
        "\n",
        "import pandas as pd\n",
        "import numpy as np\n",
        "\n",
        "TIMINGS_FILE   = \"timings.tsv\"\n",
        "FORECAST_FILE  = \"strawberry-forecast.tsv\"\n",
        "ACCURACY_FILE  = \"backtest-accuracy.tsv\"\n",
        "OUT_FILE       = \"check.tsv\"\n",
        "\n",
        "# This is the same as Part 4\n",
        "BUDGET = 1_000_000\n",
        "FREEZE_COST = 0.20\n",
        "STORAGE_COST_PER_MONTH = 0.10\n",
        "SELL_DISCOUNT = 0.10  # 10%\n",
        "\n",
        "# inputs\n",
        "timings = pd.read_csv(TIMINGS_FILE, sep=\"\\t\", parse_dates=[\"buy_month\",\"sell_month\"])\n",
        "fc      = pd.read_csv(FORECAST_FILE, sep=\"\\t\", parse_dates=[\"month\"])\n",
        "acc     = pd.read_csv(ACCURACY_FILE, sep=\"\\t\")\n",
        "std_resid = float(acc.loc[0, \"std\"])\n",
        "\n",
        "best = timings.loc[timings[\"expected_profit\"].idxmax()].copy()\n",
        "buy_month  = pd.to_datetime(best[\"buy_month\"])\n",
        "sell_month = pd.to_datetime(best[\"sell_month\"])\n",
        "pints_best = int(best[\"pints_purchased\"])\n",
        "\n",
        "prices = fc.set_index(\"month\")[\"price\"]\n",
        "buy_price  = float(prices.loc[buy_month])\n",
        "sell_price = float(prices.loc[sell_month])\n",
        "\n",
        "months_gap = (sell_month.year - buy_month.year) * 12 + (sell_month.month - buy_month.month)\n",
        "per_pint_cost = buy_price + FREEZE_COST + STORAGE_COST_PER_MONTH * months_gap\n",
        "\n",
        "per_pint_profit_best = sell_price * (1 - SELL_DISCOUNT) - per_pint_cost\n",
        "best_profit = pints_best * per_pint_profit_best\n",
        "\n",
        "sell_price_down = sell_price - std_resid\n",
        "per_pint_profit_down = sell_price_down * (1 - SELL_DISCOUNT) - per_pint_cost\n",
        "one_std_profit = pints_best * per_pint_profit_down\n",
        "\n",
        "out = pd.DataFrame(\n",
        "    [{\"best_profit\": best_profit, \"one_std_profit\": one_std_profit}],\n",
        "    columns=[\"best_profit\", \"one_std_profit\"]\n",
        ")\n",
        "out.to_csv(OUT_FILE, sep=\"\\t\", index=False)\n",
        "\n",
        "chk = pd.read_csv(OUT_FILE, sep=\"\\t\")\n",
        "assert list(chk.columns) == [\"best_profit\", \"one_std_profit\"]\n",
        "print(f\" {OUT_FILE}. Best profit ≈ {best_profit:,.2f}, one-std-down profit ≈ {one_std_profit:,.2f}.\")\n",
        "\n"
      ]
    },
    {
      "cell_type": "markdown",
      "metadata": {
        "id": "M--8x-ZMEKAi"
      },
      "source": [
        "Submit \"check.tsv\" in Gradescope."
      ]
    },
    {
      "cell_type": "markdown",
      "metadata": {
        "id": "usYg0VtaqrGN"
      },
      "source": [
        "## Part 6: Acknowledgments\n",
        "\n",
        "Make a file \"acknowledgments.txt\" documenting any outside sources or help on this project.\n",
        "If you discussed this assignment with anyone, please acknowledge them here.\n",
        "If you used any libraries not mentioned in this module's content, please list them with a brief explanation what you used them for.\n",
        "If you used any generative AI tools, please add links to your transcripts below, and any other information that you feel is necessary to comply with the generative AI policy.\n",
        "If no acknowledgements are appropriate, just write none in the file.\n"
      ]
    },
    {
      "cell_type": "code",
      "execution_count": 103,
      "metadata": {},
      "outputs": [
        {
          "name": "stdout",
          "output_type": "stream",
          "text": [
            " acknowledgments.txt\n"
          ]
        }
      ],
      "source": [
        "from textwrap import dedent\n",
        "\n",
        "ack = dedent(\"\"\"\\\n",
        "Acknowledgments\n",
        "\n",
        "\n",
        "The Libraries/Tools used \n",
        "- pandas for data loading and manipulation\n",
        "- numpy for numeric calculations\n",
        "- matplotlib plots for sanity checks\n",
        "\n",
        "Data\n",
        "- I used the course provided file strawberry-prices.tsv\n",
        "\n",
        "People/Collaboration\n",
        "- I discussed this assignment with no one and did not use any additional sources beyond the course materials,\n",
        "other than occasional Google searches to help understand concepts covered in class. \n",
        "\n",
        "\"\"\")\n",
        "\n",
        "with open(\"acknowledgments.txt\", \"w\", encoding=\"utf-8\") as f:\n",
        "    f.write(ack)\n",
        "\n",
        "print(\" acknowledgments.txt\")"
      ]
    },
    {
      "cell_type": "markdown",
      "metadata": {
        "id": "dZdLWQD8qvVV"
      },
      "source": [
        "Submit \"acknowledgements.txt\" in Gradescope."
      ]
    },
    {
      "cell_type": "markdown",
      "metadata": {
        "id": "n7ls909LqzkL"
      },
      "source": [
        "## Part 7: Code\n",
        "\n",
        "Please submit a Jupyter notebook that can reproduce all your calculations and recreate the previously submitted files.\n",
        "You do not need to provide code for data collection if you did that by manually."
      ]
    },
    {
      "cell_type": "markdown",
      "metadata": {
        "id": "mtgsTYQIq2pB"
      },
      "source": [
        "Submit \"project.ipynb\" in Gradescope."
      ]
    }
  ],
  "metadata": {
    "colab": {
      "toc_visible": false
    },
    "kernelspec": {
      "display_name": "Python 3",
      "language": "python",
      "name": "python3"
    },
    "language_info": {
      "codemirror_mode": {
        "name": "ipython",
        "version": 3
      },
      "file_extension": ".py",
      "mimetype": "text/x-python",
      "name": "python",
      "nbconvert_exporter": "python",
      "pygments_lexer": "ipython3",
      "version": "3.12.1"
    }
  },
  "nbformat": 4,
  "nbformat_minor": 0
}
